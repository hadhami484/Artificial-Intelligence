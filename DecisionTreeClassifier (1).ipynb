{
  "nbformat": 4,
  "nbformat_minor": 0,
  "metadata": {
    "colab": {
      "name": "DecisionTreeClassifier.ipynb",
      "provenance": [],
      "collapsed_sections": []
    },
    "kernelspec": {
      "name": "python3",
      "display_name": "Python 3"
    },
    "language_info": {
      "name": "python"
    }
  },
  "cells": [
    {
      "cell_type": "code",
      "metadata": {
        "id": "t6FzBs5C2FGF"
      },
      "source": [
        "import pandas as pd\n"
      ],
      "execution_count": null,
      "outputs": []
    },
    {
      "cell_type": "code",
      "metadata": {
        "colab": {
          "resources": {
            "http://localhost:8080/nbextensions/google.colab/files.js": {
              "data": "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",
              "ok": true,
              "headers": [
                [
                  "content-type",
                  "application/javascript"
                ]
              ],
              "status": 200,
              "status_text": ""
            }
          },
          "base_uri": "https://localhost:8080/",
          "height": 72
        },
        "id": "h2NPyx3c4Jku",
        "outputId": "c53bd145-a233-41ac-d7cd-4c900e592913"
      },
      "source": [
        "from google.colab import files\n",
        "uploaded1 = files.upload()"
      ],
      "execution_count": null,
      "outputs": [
        {
          "output_type": "display_data",
          "data": {
            "text/html": [
              "\n",
              "     <input type=\"file\" id=\"files-bc72a204-56c9-4fbc-a15a-5b3edd786476\" name=\"files[]\" multiple disabled\n",
              "        style=\"border:none\" />\n",
              "     <output id=\"result-bc72a204-56c9-4fbc-a15a-5b3edd786476\">\n",
              "      Upload widget is only available when the cell has been executed in the\n",
              "      current browser session. Please rerun this cell to enable.\n",
              "      </output>\n",
              "      <script src=\"/nbextensions/google.colab/files.js\"></script> "
            ],
            "text/plain": [
              "<IPython.core.display.HTML object>"
            ]
          },
          "metadata": {}
        },
        {
          "output_type": "stream",
          "text": [
            "Saving data.csv to data.csv\n"
          ],
          "name": "stdout"
        }
      ]
    },
    {
      "cell_type": "code",
      "metadata": {
        "id": "DemXTQVt4WNM"
      },
      "source": [
        "import io\n",
        "data = pd.read_csv(io.BytesIO(uploaded1['data.csv']))"
      ],
      "execution_count": null,
      "outputs": []
    },
    {
      "cell_type": "code",
      "metadata": {
        "colab": {
          "base_uri": "https://localhost:8080/",
          "height": 419
        },
        "id": "8OAop8wH7KRS",
        "outputId": "8902987f-1bd3-432e-ede5-7d6a5f25ab51"
      },
      "source": [
        "data"
      ],
      "execution_count": null,
      "outputs": [
        {
          "output_type": "execute_result",
          "data": {
            "text/html": [
              "<div>\n",
              "<style scoped>\n",
              "    .dataframe tbody tr th:only-of-type {\n",
              "        vertical-align: middle;\n",
              "    }\n",
              "\n",
              "    .dataframe tbody tr th {\n",
              "        vertical-align: top;\n",
              "    }\n",
              "\n",
              "    .dataframe thead th {\n",
              "        text-align: right;\n",
              "    }\n",
              "</style>\n",
              "<table border=\"1\" class=\"dataframe\">\n",
              "  <thead>\n",
              "    <tr style=\"text-align: right;\">\n",
              "      <th></th>\n",
              "      <th>date</th>\n",
              "      <th>text</th>\n",
              "      <th>label</th>\n",
              "      <th>tokens_without_sw_stem</th>\n",
              "    </tr>\n",
              "  </thead>\n",
              "  <tbody>\n",
              "    <tr>\n",
              "      <th>0</th>\n",
              "      <td>2021-08-17 06:28:35</td>\n",
              "      <td>we get your concern regarding the delivery of...</td>\n",
              "      <td>Neutral</td>\n",
              "      <td>['get', 'concern', 'regard', 'deliveri', 'orde...</td>\n",
              "    </tr>\n",
              "    <tr>\n",
              "      <th>1</th>\n",
              "      <td>2021-08-16 22:31:19</td>\n",
              "      <td>mercykxoxo alexa play im so excited Visage en ...</td>\n",
              "      <td>Positive</td>\n",
              "      <td>['mercykxoxo', 'alexa', 'play', 'excit', 'visa...</td>\n",
              "    </tr>\n",
              "    <tr>\n",
              "      <th>2</th>\n",
              "      <td>2021-08-16 22:31:16</td>\n",
              "      <td>itsashleeg self care is the best care Cœur noi...</td>\n",
              "      <td>Positive</td>\n",
              "      <td>['itsashleeg', 'self', 'best', 'cœur', 'noir',...</td>\n",
              "    </tr>\n",
              "    <tr>\n",
              "      <th>3</th>\n",
              "      <td>2021-08-16 19:05:00</td>\n",
              "      <td>jenpilarski thank you for this amazing opportu...</td>\n",
              "      <td>Positive</td>\n",
              "      <td>['jenpilarski', 'thank', 'amaz', 'opportun', '...</td>\n",
              "    </tr>\n",
              "    <tr>\n",
              "      <th>4</th>\n",
              "      <td>2021-08-16 19:00:00</td>\n",
              "      <td>its nationaltellajokeday – which you definitel...</td>\n",
              "      <td>Neutral</td>\n",
              "      <td>['nationaltellajokeday', '–', 'definit', 'cant...</td>\n",
              "    </tr>\n",
              "    <tr>\n",
              "      <th>...</th>\n",
              "      <td>...</td>\n",
              "      <td>...</td>\n",
              "      <td>...</td>\n",
              "      <td>...</td>\n",
              "    </tr>\n",
              "    <tr>\n",
              "      <th>3195</th>\n",
              "      <td>2021-02-12 17:44:02</td>\n",
              "      <td>sportytechmama wow your crafting skills are re...</td>\n",
              "      <td>Positive</td>\n",
              "      <td>['sportytechmama', 'wow', 'craft', 'skill', 'r...</td>\n",
              "    </tr>\n",
              "    <tr>\n",
              "      <th>3196</th>\n",
              "      <td>2021-02-12 17:41:01</td>\n",
              "      <td>callmephe awesome we got your list books to ma...</td>\n",
              "      <td>Positive</td>\n",
              "      <td>['callmeph', 'awesom', 'got', 'list', 'book', ...</td>\n",
              "    </tr>\n",
              "    <tr>\n",
              "      <th>3197</th>\n",
              "      <td>2021-02-12 17:27:02</td>\n",
              "      <td>thanks for sending in your infurmation so fas...</td>\n",
              "      <td>Positive</td>\n",
              "      <td>['thank', 'send', 'infurm', 'fast', 'incom', '...</td>\n",
              "    </tr>\n",
              "    <tr>\n",
              "      <th>3198</th>\n",
              "      <td>2021-02-12 17:22:53</td>\n",
              "      <td>were so excited you enjoyed the surprises Ope...</td>\n",
              "      <td>Positive</td>\n",
              "      <td>['excit', 'enjoy', 'surpris', 'open', 'book', ...</td>\n",
              "    </tr>\n",
              "    <tr>\n",
              "      <th>3199</th>\n",
              "      <td>2021-02-12 17:10:41</td>\n",
              "      <td>alexa    share the        love 　  　　　　  　　　...</td>\n",
              "      <td>Positive</td>\n",
              "      <td>['alexa', 'share', 'love', 'new', 'respons', '...</td>\n",
              "    </tr>\n",
              "  </tbody>\n",
              "</table>\n",
              "<p>3200 rows × 4 columns</p>\n",
              "</div>"
            ],
            "text/plain": [
              "                     date  ...                             tokens_without_sw_stem\n",
              "0     2021-08-17 06:28:35  ...  ['get', 'concern', 'regard', 'deliveri', 'orde...\n",
              "1     2021-08-16 22:31:19  ...  ['mercykxoxo', 'alexa', 'play', 'excit', 'visa...\n",
              "2     2021-08-16 22:31:16  ...  ['itsashleeg', 'self', 'best', 'cœur', 'noir',...\n",
              "3     2021-08-16 19:05:00  ...  ['jenpilarski', 'thank', 'amaz', 'opportun', '...\n",
              "4     2021-08-16 19:00:00  ...  ['nationaltellajokeday', '–', 'definit', 'cant...\n",
              "...                   ...  ...                                                ...\n",
              "3195  2021-02-12 17:44:02  ...  ['sportytechmama', 'wow', 'craft', 'skill', 'r...\n",
              "3196  2021-02-12 17:41:01  ...  ['callmeph', 'awesom', 'got', 'list', 'book', ...\n",
              "3197  2021-02-12 17:27:02  ...  ['thank', 'send', 'infurm', 'fast', 'incom', '...\n",
              "3198  2021-02-12 17:22:53  ...  ['excit', 'enjoy', 'surpris', 'open', 'book', ...\n",
              "3199  2021-02-12 17:10:41  ...  ['alexa', 'share', 'love', 'new', 'respons', '...\n",
              "\n",
              "[3200 rows x 4 columns]"
            ]
          },
          "metadata": {},
          "execution_count": 14
        }
      ]
    },
    {
      "cell_type": "code",
      "metadata": {
        "id": "to1Q80Yd4HTP"
      },
      "source": [
        "from sklearn.model_selection import train_test_split\n",
        "# Train Test Split Function\n",
        "def split_train_test(top_data_df_small, test_size=0.3, shuffle_state=True):\n",
        "    X_train, X_test, Y_train, Y_test = train_test_split(data[['date', 'text','tokens_without_sw_stem']], \n",
        "                                                        data['label'], \n",
        "                                                        shuffle=shuffle_state,\n",
        "                                                        test_size=test_size, \n",
        "                                                        random_state=15)\n",
        "    print(\"Value counts for Train sentiments\")\n",
        "    print(Y_train.value_counts())\n",
        "    print(\"Value counts for Test sentiments\")\n",
        "    print(Y_test.value_counts())\n",
        "    print(type(X_train))\n",
        "    print(type(Y_train))\n",
        "    X_train = X_train.reset_index()\n",
        "    X_test = X_test.reset_index()\n",
        "    Y_train = Y_train.to_frame()\n",
        "    Y_train = Y_train.reset_index()\n",
        "    Y_test = Y_test.to_frame()\n",
        "    Y_test = Y_test.reset_index()\n",
        "    print(X_train.head())\n",
        "    return X_train, X_test, Y_train, Y_test"
      ],
      "execution_count": null,
      "outputs": []
    },
    {
      "cell_type": "code",
      "metadata": {
        "colab": {
          "base_uri": "https://localhost:8080/"
        },
        "id": "Sim_hwq25Pe4",
        "outputId": "0f8dfdac-ade6-452c-deda-652d2a5bd812"
      },
      "source": [
        "# Call the train_test_split\n",
        "X_train, X_test, Y_train, Y_test = split_train_test(data)"
      ],
      "execution_count": null,
      "outputs": [
        {
          "output_type": "stream",
          "text": [
            "Value counts for Train sentiments\n",
            "Positive    1694\n",
            "Neutral      372\n",
            "Negative     174\n",
            "Name: label, dtype: int64\n",
            "Value counts for Test sentiments\n",
            "Positive    716\n",
            "Neutral     166\n",
            "Negative     78\n",
            "Name: label, dtype: int64\n",
            "<class 'pandas.core.frame.DataFrame'>\n",
            "<class 'pandas.core.series.Series'>\n",
            "   index  ...                             tokens_without_sw_stem\n",
            "0   1683  ...  ['your', 'welcom', '🖍️', 'delight', 'could', '...\n",
            "1   1381  ...  ['jeremysickel', 'talent', 'terrif', 'tremend'...\n",
            "2    179  ...  ['realli', 'amaz', 'quickli', 'sleep', 'bag', ...\n",
            "3   1268  ...  ['avilslar', 'noth', 'hit', 'like', 'ramen', '...\n",
            "4    996  ...  ['well', 'suppos', 'your', 'cover', 'visag', '...\n",
            "\n",
            "[5 rows x 4 columns]\n"
          ],
          "name": "stdout"
        }
      ]
    },
    {
      "cell_type": "code",
      "metadata": {
        "colab": {
          "base_uri": "https://localhost:8080/"
        },
        "id": "8aiC2cHD5YS8",
        "outputId": "35424da5-1535-4710-8ab8-323a40197d65"
      },
      "source": [
        "from gensim.models import Word2Vec\n",
        "import time\n",
        "# Skip-gram model (sg = 1)\n",
        "size = 1000\n",
        "window = 3\n",
        "min_count = 1\n",
        "workers = 3\n",
        "sg = 1\n",
        "\n",
        "word2vec_model_file = 'word2vec_' + str(size) + '.model'\n",
        "start_time = time.time()\n",
        "stemmed_tokens = pd.Series(data['tokens_without_sw_stem']).values\n",
        "# Train the Word2Vec Model\n",
        "w2v_model = Word2Vec(stemmed_tokens, min_count = min_count, size = size, workers = workers, window = window, sg = sg)\n",
        "print(\"Time taken to train word2vec model: \" + str(time.time() - start_time))\n",
        "w2v_model.save(word2vec_model_file)"
      ],
      "execution_count": null,
      "outputs": [
        {
          "output_type": "stream",
          "text": [
            "Time taken to train word2vec model: 4.434787750244141\n"
          ],
          "name": "stdout"
        }
      ]
    },
    {
      "cell_type": "code",
      "metadata": {
        "colab": {
          "base_uri": "https://localhost:8080/"
        },
        "id": "abRFRCQv5usR",
        "outputId": "8c525032-3e4d-4089-8d5d-1c06288bbe98"
      },
      "source": [
        "import numpy as np\n",
        "# Load the model from the model file\n",
        "sg_w2v_model = Word2Vec.load(word2vec_model_file)\n",
        "# Get the mean for the vectors for an example review\n",
        "print(\"Print the length after taking average of all word vectors in a sentence:\")\n",
        "print(np.mean([sg_w2v_model[token] for token in data['tokens_without_sw_stem'][0]], axis=0))"
      ],
      "execution_count": null,
      "outputs": [
        {
          "output_type": "stream",
          "text": [
            "Print the length after taking average of all word vectors in a sentence:\n",
            "[-1.17392447e-02 -1.73539501e-02 -5.17472513e-02 -1.50834722e-02\n",
            "  1.55202067e-02  4.64175008e-02  3.63387764e-02 -3.42517979e-02\n",
            " -4.10515629e-02 -1.31226163e-02 -1.65311489e-02  8.12627189e-03\n",
            "  9.20905545e-02  2.45113242e-02  4.21098433e-02  4.89722900e-02\n",
            " -3.01639754e-02 -5.89678437e-03  6.75403625e-02  4.93804030e-02\n",
            "  1.42397285e-02 -3.36543731e-02  6.02852926e-02  1.44143980e-02\n",
            "  4.56909612e-02 -1.80565603e-02  5.42814508e-02 -3.26942392e-02\n",
            "  5.34751127e-03 -3.89999002e-02  1.82375479e-05 -1.12784014e-03\n",
            " -2.42315307e-02 -2.00369861e-02  2.70974752e-03  4.35418412e-02\n",
            "  1.90610271e-02  3.99614591e-03  1.96870621e-02 -3.43720019e-02\n",
            " -2.80105844e-02 -2.87823603e-02 -3.26581635e-02  5.60421729e-03\n",
            " -2.34752316e-02  4.41518351e-02 -2.08987780e-02  2.13458370e-02\n",
            "  6.12474140e-03  2.50323750e-02 -1.20720714e-02 -6.09064214e-02\n",
            " -1.62968747e-02 -5.06320212e-04  1.81762408e-02 -1.23882629e-02\n",
            "  1.09889302e-02 -3.05238664e-02  1.73621140e-02 -1.87296029e-02\n",
            " -2.04493906e-02  3.43185030e-02 -5.39827114e-03  2.70505250e-02\n",
            " -1.67273879e-02 -5.28189354e-03  2.81316433e-02 -2.12559057e-03\n",
            "  3.77293862e-02 -7.26754172e-03  1.15134316e-02 -1.33346580e-03\n",
            "  3.43969441e-03 -9.55346692e-03  1.95112508e-02 -7.25649903e-03\n",
            " -2.12084856e-02 -1.56421717e-02  9.85340495e-03 -2.95448918e-02\n",
            " -3.41059677e-02  3.86810978e-03 -4.67180796e-02  1.57105755e-02\n",
            "  6.58830628e-03  6.42080791e-04  2.32545137e-02 -1.03270430e-02\n",
            "  3.77884656e-02  1.58345941e-02 -1.09820394e-02  1.31561672e-02\n",
            "  6.80714473e-03 -1.51526602e-02  4.87486692e-03  5.46657480e-03\n",
            "  7.25127198e-03 -3.12481001e-02 -8.88429135e-02  7.89542869e-02\n",
            " -8.30204412e-02 -1.87855195e-02 -6.52750805e-02 -4.19961624e-02\n",
            " -8.74197669e-03  3.65302861e-02  3.28595154e-02  2.69842464e-02\n",
            " -3.89660448e-02  3.11064050e-02  4.05422077e-02  8.85391855e-05\n",
            "  1.89066920e-02 -2.29531378e-02  5.05348146e-02  3.69322710e-02\n",
            "  1.07401237e-01  5.98232150e-02  1.52557418e-02  3.95425688e-03\n",
            "  3.12230419e-02  3.00082960e-03 -5.32325543e-02  1.73178948e-02\n",
            "  4.57195519e-03  2.59456616e-02  2.90806289e-03  1.10386768e-02\n",
            "  1.51416054e-02  4.68072519e-02 -3.41698937e-02 -9.91191808e-03\n",
            " -9.30727832e-03  4.02220935e-02 -1.90168638e-02 -7.22164102e-03\n",
            " -4.07062508e-02  3.51655371e-02 -2.01127697e-02  8.63097701e-03\n",
            " -1.54945431e-02  2.17338447e-02 -4.45353985e-02  3.46931294e-02\n",
            "  2.39377213e-03  7.70319719e-03  1.37405628e-02  1.59371346e-02\n",
            "  1.05330860e-02 -3.42355110e-02  8.86347219e-02  4.01413068e-02\n",
            " -4.22483906e-02  3.68147045e-02  3.50683704e-02 -7.46966675e-02\n",
            "  7.73436129e-02 -1.59486532e-02 -1.61793530e-02 -8.68644044e-02\n",
            " -4.57209460e-02  2.29810774e-02 -1.02922469e-02  7.36127002e-03\n",
            " -1.38015272e-02  2.02240050e-02  8.08497518e-03 -1.12728542e-02\n",
            "  3.70644331e-02 -6.02112990e-03  4.48382795e-02 -2.85729021e-02\n",
            " -7.17609562e-03 -9.07406118e-03  2.74549685e-02  5.41247949e-02\n",
            "  1.51855592e-02  6.53125718e-02  1.85597613e-02 -2.03144047e-02\n",
            "  1.58548038e-02 -2.59325169e-02 -2.77052540e-02  1.56849960e-03\n",
            "  3.08624208e-02 -2.12113513e-03 -3.60546857e-02 -1.91749986e-02\n",
            "  5.50124934e-03 -9.58900247e-03  4.98617478e-02  2.55731791e-02\n",
            "  9.78575274e-02  8.48240480e-02 -6.35225624e-02  6.88482216e-03\n",
            "  2.41802372e-02  2.44621821e-02 -1.97275635e-02  8.59728903e-02\n",
            " -1.08509809e-02 -2.11214963e-02 -5.19168712e-02  1.12797745e-01\n",
            "  4.63343039e-02  9.09618661e-02 -6.94550723e-02 -6.68603852e-02\n",
            " -6.87348396e-02  8.96001458e-02 -7.58593902e-03 -6.23036362e-03\n",
            "  3.29801738e-02 -1.16526959e-02  5.83043769e-02 -3.38260364e-03\n",
            " -1.08077051e-02  3.25368121e-02 -4.71861176e-02 -5.51021807e-02\n",
            " -5.90405129e-02  2.59482935e-02 -5.65343723e-02  2.55339406e-02\n",
            " -2.83419639e-02  1.13723902e-02 -9.29854214e-02 -5.35496920e-02\n",
            " -2.63670105e-02 -3.24185714e-02 -5.75916329e-03 -1.45912683e-02\n",
            " -3.25630158e-02 -3.37401256e-02  3.26490365e-02 -3.24882679e-02\n",
            "  4.29603562e-04 -1.27409901e-02 -6.90231007e-03 -1.89201918e-03\n",
            " -6.90500587e-02  2.18512453e-02  3.32532972e-02 -2.13420242e-02\n",
            "  1.68895517e-02 -6.70301095e-02  7.87807349e-03  5.11883087e-02\n",
            "  3.62180471e-02 -5.21537438e-02 -5.24556916e-03 -2.70710178e-02\n",
            " -3.87162343e-02  6.96057873e-03  1.45158898e-02 -4.58809249e-02\n",
            " -5.60166463e-02 -4.16547097e-02 -1.22333383e-02  5.71846291e-02\n",
            "  1.19212708e-02 -6.48225546e-02 -4.31782492e-02  1.16584834e-03\n",
            "  9.78916697e-03 -2.31337976e-02  3.15110721e-02 -5.41052260e-02\n",
            "  2.10964177e-02  3.11562512e-02  1.24427285e-02 -1.03587285e-02\n",
            "  5.38111990e-03 -4.13600691e-02 -6.11125212e-03  2.97182370e-02\n",
            " -6.73825815e-02 -6.29244884e-03 -1.63307004e-02 -4.47539426e-02\n",
            " -3.78506333e-02  1.53008047e-02 -9.23533812e-02  8.76238197e-02\n",
            " -1.41886612e-02 -1.27304271e-02  7.59394616e-02 -7.04279169e-03\n",
            " -3.02082803e-02  2.20267419e-02  1.64857563e-02  5.25780953e-02\n",
            " -1.63561199e-02  1.86366383e-02  1.22366827e-02  4.15120013e-02\n",
            "  2.88697192e-03  4.46866639e-02  6.33150116e-02  2.81184185e-02\n",
            "  2.10485440e-02 -2.90410966e-02 -2.41946019e-02 -4.65830564e-02\n",
            "  5.94324060e-02 -2.77553573e-02 -1.22753857e-02 -7.39977881e-03\n",
            "  1.63888652e-02  6.29078746e-02 -3.24537754e-02  1.64691582e-02\n",
            "  3.07943560e-02  2.47898176e-02 -3.64824422e-02 -4.14956734e-02\n",
            " -4.61469442e-02  1.27288289e-02  9.70993750e-03 -4.09991033e-02\n",
            " -5.99471526e-03  6.58819173e-03 -2.00497117e-02  1.20261656e-02\n",
            "  5.23466791e-04 -8.81583896e-03  4.07491326e-02 -4.72046956e-02\n",
            "  6.71513658e-03  4.12282832e-02 -4.42950130e-02 -4.21511456e-02\n",
            "  1.09571284e-02 -1.49993710e-02 -1.11216586e-02  1.43547608e-02\n",
            " -2.13326532e-02 -5.57798930e-02 -2.75269356e-02 -6.40872633e-03\n",
            " -2.59258272e-03  4.04769443e-02  4.87903319e-02  3.50944698e-02\n",
            " -1.30248731e-02 -1.16486307e-02 -4.29581152e-03  2.50769202e-02\n",
            " -9.04226862e-03  4.22771946e-02  3.52080390e-02  3.86230573e-02\n",
            " -2.58590491e-03  5.75823225e-02 -8.76943693e-02 -4.51214984e-02\n",
            "  3.95208411e-02  3.12667824e-02  8.02144110e-02  2.60177255e-02\n",
            "  3.63377971e-03 -1.64009389e-02  1.56788845e-02  3.73506397e-02\n",
            " -3.04016341e-02  3.90022583e-02 -7.61716738e-02 -5.91998501e-03\n",
            " -3.79201099e-02  5.52757345e-02  8.72564763e-02 -1.94691326e-02\n",
            "  2.56484430e-02 -5.30421780e-03  1.43914018e-02  6.51223911e-03\n",
            " -3.00837103e-02 -3.15790698e-02 -2.38105878e-02  1.76413078e-02\n",
            " -3.68246064e-02 -1.68510750e-02  1.26218377e-02 -1.90287959e-02\n",
            "  3.24934125e-02 -4.45611961e-02  1.50724482e-02 -3.73786688e-03\n",
            " -1.15931612e-02 -4.01966162e-02 -7.20939413e-03 -1.53911710e-02\n",
            "  1.51755684e-03  4.24602767e-03  6.63763657e-03  6.36252901e-03\n",
            "  1.25718601e-02 -7.79966637e-03 -1.53094446e-02  1.64260734e-02\n",
            "  9.27586167e-04 -1.03263641e-02 -7.74285616e-03 -6.85219944e-04\n",
            " -1.61046665e-02  4.97495104e-03  4.75583645e-03 -1.33465640e-02\n",
            " -2.31849682e-03  2.40897425e-02 -7.57590868e-03  8.30825698e-03\n",
            "  7.14232074e-03 -9.12602711e-03 -7.67688174e-03 -1.49104688e-02\n",
            " -2.65708137e-02  4.05441001e-02 -3.76970647e-03  2.40237806e-02\n",
            "  1.55174434e-02  5.16069704e-04 -1.26550943e-02 -6.15265630e-02\n",
            "  5.92886917e-02 -2.95345224e-02 -2.62867175e-02 -7.93207809e-03\n",
            " -5.29667847e-02 -3.12927142e-02 -6.17128313e-02  3.47160688e-03\n",
            "  7.44311139e-03  4.31131339e-03  3.60582047e-03 -2.77236849e-03\n",
            "  3.77122127e-03 -3.02195605e-02 -1.91615429e-02  1.95714794e-02\n",
            " -4.02150974e-02  5.66821266e-03 -2.27139518e-02 -7.05925152e-02\n",
            " -2.79669743e-02  7.29276240e-03  2.92504039e-02 -1.35630807e-02\n",
            "  3.98820965e-03 -2.36556660e-02 -6.51015565e-02  3.68805043e-02\n",
            "  1.61482245e-02 -9.83149279e-03  1.80252455e-02  2.82119736e-02\n",
            "  4.56044674e-02  1.34291863e-02  1.52201010e-02  9.36761275e-02\n",
            "  2.15229318e-02  9.57294926e-02 -3.53828352e-03 -1.48148229e-02\n",
            " -1.04916645e-02  9.30683222e-03  7.03445822e-02 -3.28411325e-03\n",
            "  2.08963230e-02  2.97621600e-02  1.14148455e-02 -2.42540403e-03\n",
            " -4.92188521e-02  2.94666290e-02 -3.87452804e-02 -2.89199548e-03\n",
            " -2.15467648e-03  1.59681905e-02 -4.96775704e-03  2.32359804e-02\n",
            " -2.17201468e-02  6.77996175e-03  2.85333544e-02 -1.42405657e-02\n",
            "  5.87463118e-02  1.13134775e-02  6.89963400e-02 -3.74060087e-02\n",
            "  6.16802163e-02  6.89558312e-03 -5.17197000e-03  2.43815724e-02\n",
            "  3.34253944e-02 -1.38729624e-02  1.41916089e-02  3.43897268e-02\n",
            "  5.51915616e-02  8.28253513e-04 -1.41756441e-02  3.60059217e-02\n",
            " -2.49506291e-02  8.41843262e-02  6.11642487e-02 -2.67887935e-05\n",
            " -2.66518891e-02 -3.65350060e-02 -7.65501037e-02 -5.48990965e-02\n",
            "  1.80637091e-02 -3.01054753e-02 -2.09577717e-02  2.96673104e-02\n",
            "  4.62659746e-02  2.23568976e-02 -3.54616321e-03 -2.21873261e-02\n",
            " -6.85489736e-03 -4.21140008e-02  2.54864562e-02  1.04451729e-02\n",
            " -2.93369237e-02 -6.45500571e-02  1.03728585e-02  1.03376284e-02\n",
            " -7.65476469e-03  1.84960142e-02 -5.49179129e-03 -4.00257632e-02\n",
            "  5.60637005e-02 -2.18691323e-02  1.02752699e-02  1.56851474e-03\n",
            " -2.87748910e-02 -6.29397016e-03  2.51906738e-02  8.06789007e-03\n",
            " -4.17060591e-02 -6.65572146e-03 -3.27490037e-03  2.82411706e-02\n",
            "  6.59906259e-03  1.50388069e-02  3.70183424e-03 -1.45185436e-03\n",
            "  1.87164557e-03 -4.95657884e-02  1.17917173e-02 -2.18793824e-02\n",
            " -3.24647389e-02  6.28889650e-02  6.36805147e-02 -3.92558053e-03\n",
            "  2.33863648e-02  3.84049378e-02 -3.80101893e-03 -5.53704239e-02\n",
            "  7.20770434e-02  1.18258002e-03  3.50412680e-04  8.80126655e-03\n",
            "  8.62098187e-02 -2.44140755e-02  3.32375318e-02 -3.60052399e-02\n",
            "  2.97276359e-02 -1.64078176e-02  3.33712809e-02 -2.37310235e-03\n",
            "  4.62498218e-02 -3.20983939e-02  1.42328942e-03  9.82082076e-03\n",
            "  7.18230307e-02 -3.07553876e-02 -1.13138221e-02 -4.57868725e-02\n",
            " -5.92495501e-02  6.59737736e-02  2.79312078e-02  6.11483566e-02\n",
            "  1.02417758e-02 -3.96103077e-02  8.24432448e-02  3.57386842e-02\n",
            "  2.75711771e-02 -7.30369017e-02 -8.32404494e-02  5.06994762e-02\n",
            " -4.14669029e-02  4.93275039e-02  3.38129401e-02  4.27496843e-02\n",
            " -8.97266418e-02  4.88472097e-02  8.26669037e-02 -4.04974036e-02\n",
            " -2.58360077e-02 -2.99331825e-02  1.09682092e-02 -2.36929976e-03\n",
            " -5.98473959e-02  3.56777012e-02 -5.45530953e-03 -1.19908620e-02\n",
            "  1.46914888e-02 -1.42183704e-02  5.51721081e-02 -6.52062567e-03\n",
            " -5.16777523e-02 -5.80651592e-03  7.34769925e-02 -1.90271270e-02\n",
            "  4.48599793e-02 -2.78963777e-03 -2.68259700e-02 -1.96503978e-02\n",
            "  1.33643989e-02 -2.78432332e-02 -9.29934345e-03 -4.47530411e-02\n",
            "  5.14109135e-02 -1.00005284e-01 -2.48008091e-02  5.01148738e-02\n",
            " -4.45686132e-02 -1.26049516e-03 -2.33574919e-02  3.43536586e-02\n",
            "  3.28122042e-02 -2.54356861e-03 -3.01087666e-02 -5.32001406e-02\n",
            " -2.84076761e-02  1.44976787e-02 -5.22380136e-02 -1.99824888e-02\n",
            " -2.82287765e-02  5.37217967e-03  1.37898168e-02 -8.90276283e-02\n",
            " -5.07169329e-02  3.67869101e-02 -1.38313221e-02 -1.10678151e-02\n",
            "  4.09802329e-03 -4.86443043e-02  5.87137695e-03 -1.90614909e-03\n",
            " -1.09211681e-02  1.95616782e-02  2.03832909e-02  3.39291506e-02\n",
            "  2.92653553e-02  1.02867968e-02 -2.83422554e-03  2.41251886e-02\n",
            " -1.97448656e-02  2.02900337e-04  1.09137166e-02  3.27594876e-02\n",
            " -1.49378572e-02 -2.50948109e-02  8.64164066e-03  1.69517123e-03\n",
            " -1.12405075e-02 -1.82003831e-03 -3.60447988e-02  4.98180836e-02\n",
            " -2.07041055e-02  1.94372814e-02  7.19233137e-03  2.31710821e-02\n",
            " -7.45262310e-04  2.27279160e-02 -1.87691078e-02 -2.70424839e-02\n",
            " -8.99019651e-03 -2.37884838e-02 -2.71604713e-02 -1.52234947e-02\n",
            " -2.87005287e-02  2.03384161e-02  9.64771584e-03  7.35178241e-04\n",
            "  2.55008042e-03  9.43092164e-03 -1.99960470e-02  1.13571053e-02\n",
            " -1.13839097e-02 -2.07099169e-02  1.67206209e-02  5.32168746e-02\n",
            " -2.23812135e-03  6.55381829e-02  4.52342024e-03 -7.54471719e-02\n",
            " -8.16033571e-04  6.22581653e-02  2.18508989e-02  3.15692835e-03\n",
            "  5.24041839e-02  1.32086119e-02  2.20724177e-02  2.74947030e-03\n",
            "  3.12120300e-02 -4.69775833e-02 -4.11244854e-03 -1.82114355e-02\n",
            " -3.20287198e-02  5.88149996e-03 -2.82609854e-02 -7.86305405e-03\n",
            " -1.03487177e-02 -2.64488366e-02 -5.33206351e-02  1.64079666e-02\n",
            "  2.30094586e-02 -5.59938438e-02  5.87056763e-02  2.59310026e-02\n",
            "  3.86189148e-02  3.38663757e-02 -3.72669958e-02  7.47672617e-02\n",
            "  3.02922167e-02 -1.89349577e-02 -5.43148816e-03 -2.56624594e-02\n",
            " -1.91950332e-03 -5.98706212e-03 -3.32896523e-02 -3.53377946e-02\n",
            "  1.38263043e-03  3.66002060e-02 -3.19703966e-02 -7.51971174e-03\n",
            "  2.28241854e-03  2.41853371e-02 -8.56892392e-03 -2.76884008e-02\n",
            "  5.87573228e-03 -2.61177309e-02  7.24940971e-02  2.84590498e-02\n",
            "  2.31506359e-02  3.11188097e-03 -5.23001291e-02  2.60253623e-02\n",
            " -7.31671080e-02  2.59700511e-03  7.56996917e-03  3.09361685e-02\n",
            " -2.14826893e-02 -1.48305688e-02 -4.91017811e-02 -1.33216679e-02\n",
            "  6.47784099e-02 -6.51446581e-02 -1.86517667e-02  7.33001828e-02\n",
            "  6.06502332e-02 -1.31183779e-02  2.75587663e-02  3.56741771e-02\n",
            "  2.19228826e-02  2.67722569e-02  3.36445644e-02  6.68723788e-03\n",
            " -2.61483993e-02 -5.35872169e-02 -1.89652219e-02  5.84251583e-02\n",
            "  1.51851242e-02  5.39924717e-03 -2.87606400e-02  2.68064085e-02\n",
            "  3.94376591e-02 -5.54173777e-04 -6.62084371e-02 -4.85937856e-02\n",
            " -6.03142544e-04 -4.71650660e-02  3.63220423e-02 -8.01673830e-02\n",
            "  5.22550952e-04  4.97762337e-02 -3.29364799e-02 -2.58617476e-02\n",
            "  1.69179253e-02 -3.27017880e-03  3.13573256e-02 -1.12361750e-02\n",
            "  4.46852036e-02  6.44580498e-02 -3.55956443e-02 -1.00119924e-02\n",
            " -2.06168797e-02  1.08982334e-02  1.68375205e-02  3.15392464e-02\n",
            "  2.24315803e-02 -3.46366651e-02  3.74748521e-02  6.52704090e-02\n",
            " -2.39385162e-02 -7.24845305e-02  3.01444065e-02 -1.68766528e-02\n",
            "  1.54376673e-02  1.58477835e-02 -2.71739233e-02 -1.31953424e-02\n",
            " -3.73953480e-05  8.18704590e-02  7.30488151e-02  4.56650257e-02\n",
            " -1.84949320e-02  7.15659186e-03 -1.90239996e-02 -2.22010314e-02\n",
            " -1.45472717e-02 -4.26639766e-02 -5.90096340e-02  6.19170535e-03\n",
            " -2.26161629e-02 -1.72587056e-02 -5.04382281e-03  7.37422109e-02\n",
            " -7.80370552e-03  1.23273302e-02 -9.31778699e-02  4.05856408e-02\n",
            "  2.94286516e-02  3.70963998e-02 -9.36742127e-02 -5.42319678e-02\n",
            "  4.81974110e-02  1.22523885e-02  9.95841026e-02 -2.62157395e-02\n",
            " -2.19447948e-02  6.78693224e-03 -2.64117494e-02 -3.47946770e-02\n",
            "  2.40820646e-02  2.86840182e-02 -3.46183516e-02  3.15281972e-02\n",
            "  1.60630643e-02 -3.16540003e-02 -8.58200639e-02  7.94431418e-02\n",
            " -2.27623284e-02  2.56287772e-02  1.66749097e-02  5.13974354e-02\n",
            "  2.77563296e-02  1.32029420e-02 -4.60140742e-02 -3.55790071e-02\n",
            "  3.51191685e-02  2.60911305e-02 -5.53817600e-02  1.26684075e-02\n",
            "  3.93838398e-02 -1.58131018e-03 -8.85604247e-02  3.72165702e-02\n",
            " -4.90024313e-02 -6.35167137e-02 -6.46635294e-02  3.81322056e-02\n",
            " -2.26486828e-02 -2.88813934e-02  4.20835502e-02 -2.96157133e-03\n",
            " -4.38247733e-02  4.40681688e-02  8.59872345e-03 -3.03570759e-02\n",
            " -3.24306116e-02  4.23280299e-02 -4.59030364e-03  1.33719286e-02\n",
            "  1.59383416e-02 -1.41431084e-02  2.15717051e-02 -4.99331020e-03\n",
            "  1.04423165e-02 -1.66565063e-03 -2.15603169e-02  2.26482507e-02\n",
            "  8.90131388e-03 -2.11427137e-02 -3.20254639e-02  1.69944596e-02\n",
            " -3.85242961e-02  6.66648848e-03 -2.87704542e-02  1.05664125e-02\n",
            " -2.94630788e-03 -9.55337565e-03  1.85148930e-03  5.07296808e-02\n",
            "  3.73926200e-02  8.78417119e-03  1.33650340e-02 -8.56692251e-03\n",
            " -1.85014158e-02  3.43964584e-02  2.31319517e-02 -1.47224823e-02\n",
            "  7.54707605e-02 -7.39313662e-02  8.46795551e-03 -1.78798493e-02\n",
            " -9.77459247e-04  9.99159273e-03 -5.02808904e-03 -3.23050916e-02\n",
            " -3.57707366e-02 -2.13409998e-02  1.37960827e-02  7.64673650e-02\n",
            " -2.24499628e-02 -8.96764919e-03  1.25491535e-02 -1.54690370e-02\n",
            "  3.50966793e-03  1.08109508e-02 -2.40671467e-02 -4.01380612e-03\n",
            " -8.43508448e-03 -2.46405900e-02  4.73883701e-03 -3.63495052e-02\n",
            " -4.48426493e-02  4.18712106e-03  2.98767630e-02 -3.36729884e-02\n",
            "  2.95183398e-02 -1.30797196e-02 -1.65674519e-02  1.83193181e-02\n",
            "  3.92486062e-03 -3.71324457e-02 -9.72170010e-03  1.35725746e-02\n",
            "  6.94986852e-03 -4.83319443e-03 -2.46153586e-02  2.67907437e-02\n",
            " -7.29961134e-03 -6.06816076e-02  3.78143415e-02  2.08974909e-02\n",
            " -1.81362126e-02 -6.99262368e-03 -7.02246130e-02  1.83946472e-02\n",
            "  3.45465913e-02 -2.67167902e-03  1.87028013e-02  3.12006269e-02\n",
            "  2.87738144e-02  1.95252541e-02 -1.14011159e-02  3.58348675e-02\n",
            " -2.13111751e-02  1.23305023e-02 -1.03895757e-02 -2.67839655e-02\n",
            "  3.98577712e-02  1.34052718e-02  8.48751608e-03 -2.62146965e-02\n",
            "  3.84666654e-03  9.03669372e-03 -4.91389483e-02  7.72145018e-03\n",
            " -4.88771461e-02 -2.42173183e-03 -3.30937579e-02 -1.82820801e-02\n",
            "  1.37181440e-03 -1.92012712e-02  4.09239978e-02 -2.73276772e-02\n",
            "  3.23744155e-02  1.61828902e-02  1.87819395e-02 -2.45006885e-02\n",
            " -3.67320664e-02 -8.22293106e-04 -2.36903448e-02  2.76561920e-02\n",
            "  1.30087659e-02  3.16087902e-03  3.33245695e-02  1.12576140e-02]\n"
          ],
          "name": "stdout"
        },
        {
          "output_type": "stream",
          "text": [
            "/usr/local/lib/python3.7/dist-packages/ipykernel_launcher.py:6: DeprecationWarning: Call to deprecated `__getitem__` (Method will be removed in 4.0.0, use self.wv.__getitem__() instead).\n",
            "  \n"
          ],
          "name": "stderr"
        }
      ]
    },
    {
      "cell_type": "code",
      "metadata": {
        "colab": {
          "base_uri": "https://localhost:8080/"
        },
        "id": "ynvEtuhw7oaa",
        "outputId": "99d66d3b-3cd7-4fc5-d1c1-63d9c20fb7fb"
      },
      "source": [
        "# Store the vectors for train data in following file\n",
        "word2vec_filename = 'train_review_word2vec.csv'\n",
        "with open(word2vec_filename, 'w+') as word2vec_file:\n",
        "    for index, row in X_train.iterrows():\n",
        "        model_vector = (np.mean([sg_w2v_model[token] for token in row['tokens_without_sw_stem']], axis=0)).tolist()\n",
        "        if index == 0:\n",
        "            header = \",\".join(str(ele) for ele in range(1000))\n",
        "            word2vec_file.write(header)\n",
        "            word2vec_file.write(\"\\n\")\n",
        "        # Check if the line exists else it is vector of zeros\n",
        "        if type(model_vector) is list:  \n",
        "            line1 = \",\".join( [str(vector_element) for vector_element in model_vector] )\n",
        "        else:\n",
        "            line1 = \",\".join([str(0) for i in range(1000)])\n",
        "        word2vec_file.write(line1)\n",
        "        word2vec_file.write('\\n')"
      ],
      "execution_count": null,
      "outputs": [
        {
          "output_type": "stream",
          "text": [
            "/usr/local/lib/python3.7/dist-packages/ipykernel_launcher.py:5: DeprecationWarning: Call to deprecated `__getitem__` (Method will be removed in 4.0.0, use self.wv.__getitem__() instead).\n",
            "  \"\"\"\n"
          ],
          "name": "stderr"
        }
      ]
    },
    {
      "cell_type": "code",
      "metadata": {
        "colab": {
          "base_uri": "https://localhost:8080/"
        },
        "id": "rsZDNarW77Ux",
        "outputId": "cac3505c-fe87-4781-f257-6631bac7bd61"
      },
      "source": [
        "import time\n",
        "#Import the DecisionTreeeClassifier\n",
        "from sklearn.tree import DecisionTreeClassifier\n",
        "# Load from the filename\n",
        "word2vec_df = pd.read_csv(word2vec_filename)\n",
        "#Initialize the model\n",
        "clf_decision_word2vec = DecisionTreeClassifier()\n",
        "\n",
        "start_time = time.time()\n",
        "# Fit the model\n",
        "clf_decision_word2vec.fit(word2vec_df, Y_train['label'])\n",
        "print(\"Time taken to fit the model with word2vec vectors: \" + str(time.time() - start_time))"
      ],
      "execution_count": null,
      "outputs": [
        {
          "output_type": "stream",
          "text": [
            "Time taken to fit the model with word2vec vectors: 5.857373237609863\n"
          ],
          "name": "stdout"
        }
      ]
    },
    {
      "cell_type": "code",
      "metadata": {
        "colab": {
          "base_uri": "https://localhost:8080/"
        },
        "id": "eR9T1Tps8D_b",
        "outputId": "eb90424e-3067-4a37-e55f-871a620ae30e"
      },
      "source": [
        "from sklearn.metrics import classification_report\n",
        "test_features_word2vec = []\n",
        "for index, row in X_test.iterrows():\n",
        "    model_vector = np.mean([sg_w2v_model[token] for token in row['tokens_without_sw_stem']], axis=0)\n",
        "    if type(model_vector) is list:\n",
        "        test_features_word2vec.append(model_vector)\n",
        "    else:\n",
        "        test_features_word2vec.append(np.array([0 for i in range(1000)]))\n",
        "test_predictions_word2vec = clf_decision_word2vec.predict(test_features_word2vec)\n",
        "print(classification_report(Y_test['label'],test_predictions_word2vec))"
      ],
      "execution_count": null,
      "outputs": [
        {
          "output_type": "stream",
          "text": [
            "/usr/local/lib/python3.7/dist-packages/ipykernel_launcher.py:4: DeprecationWarning: Call to deprecated `__getitem__` (Method will be removed in 4.0.0, use self.wv.__getitem__() instead).\n",
            "  after removing the cwd from sys.path.\n"
          ],
          "name": "stderr"
        },
        {
          "output_type": "stream",
          "text": [
            "              precision    recall  f1-score   support\n",
            "\n",
            "    Negative       0.00      0.00      0.00        78\n",
            "     Neutral       0.00      0.00      0.00       166\n",
            "    Positive       0.75      1.00      0.85       716\n",
            "\n",
            "    accuracy                           0.75       960\n",
            "   macro avg       0.25      0.33      0.28       960\n",
            "weighted avg       0.56      0.75      0.64       960\n",
            "\n"
          ],
          "name": "stdout"
        },
        {
          "output_type": "stream",
          "text": [
            "/usr/local/lib/python3.7/dist-packages/sklearn/metrics/_classification.py:1272: UndefinedMetricWarning: Precision and F-score are ill-defined and being set to 0.0 in labels with no predicted samples. Use `zero_division` parameter to control this behavior.\n",
            "  _warn_prf(average, modifier, msg_start, len(result))\n"
          ],
          "name": "stderr"
        }
      ]
    }
  ]
}