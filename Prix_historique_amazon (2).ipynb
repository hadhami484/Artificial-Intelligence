{
  "nbformat": 4,
  "nbformat_minor": 5,
  "metadata": {
    "kernelspec": {
      "display_name": "Python 3",
      "language": "python",
      "name": "python3"
    },
    "language_info": {
      "codemirror_mode": {
        "name": "ipython",
        "version": 3
      },
      "file_extension": ".py",
      "mimetype": "text/x-python",
      "name": "python",
      "nbconvert_exporter": "python",
      "pygments_lexer": "ipython3",
      "version": "3.8.3"
    },
    "colab": {
      "name": "Prix historique amazon.ipynb",
      "provenance": [],
      "collapsed_sections": []
    }
  },
  "cells": [
    {
      "cell_type": "code",
      "metadata": {
        "id": "88cfcXnQ_YAB"
      },
      "source": [
        "import numpy as np\n",
        "import matplotlib.pyplot as plt\n",
        "import pandas as pd"
      ],
      "id": "88cfcXnQ_YAB",
      "execution_count": null,
      "outputs": []
    },
    {
      "cell_type": "code",
      "metadata": {
        "colab": {
          "resources": {
            "http://localhost:8080/nbextensions/google.colab/files.js": {
              "data": "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",
              "ok": true,
              "headers": [
                [
                  "content-type",
                  "application/javascript"
                ]
              ],
              "status": 200,
              "status_text": ""
            }
          },
          "base_uri": "https://localhost:8080/",
          "height": 72
        },
        "id": "Tnz4bh6k_jTl",
        "outputId": "c22dd323-d177-403a-c5f4-2a8100b28ce2"
      },
      "source": [
        "from google.colab import files\n",
        "uploaded1 = files.upload()"
      ],
      "id": "Tnz4bh6k_jTl",
      "execution_count": null,
      "outputs": [
        {
          "output_type": "display_data",
          "data": {
            "text/html": [
              "\n",
              "     <input type=\"file\" id=\"files-13839bfa-7715-42a7-a95c-2a028bad7ecb\" name=\"files[]\" multiple disabled\n",
              "        style=\"border:none\" />\n",
              "     <output id=\"result-13839bfa-7715-42a7-a95c-2a028bad7ecb\">\n",
              "      Upload widget is only available when the cell has been executed in the\n",
              "      current browser session. Please rerun this cell to enable.\n",
              "      </output>\n",
              "      <script src=\"/nbextensions/google.colab/files.js\"></script> "
            ],
            "text/plain": [
              "<IPython.core.display.HTML object>"
            ]
          },
          "metadata": {}
        },
        {
          "output_type": "stream",
          "name": "stdout",
          "text": [
            "Saving AMZN.csv to AMZN.csv\n"
          ]
        }
      ]
    },
    {
      "cell_type": "code",
      "metadata": {
        "colab": {
          "resources": {
            "http://localhost:8080/nbextensions/google.colab/files.js": {
              "data": "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",
              "ok": true,
              "headers": [
                [
                  "content-type",
                  "application/javascript"
                ]
              ],
              "status": 200,
              "status_text": ""
            }
          },
          "base_uri": "https://localhost:8080/",
          "height": 72
        },
        "id": "utBcTeQvC_ey",
        "outputId": "23c6bf0c-1a42-45b4-aa35-482b2fd93a98"
      },
      "source": [
        "uploaded2 = files.upload()"
      ],
      "id": "utBcTeQvC_ey",
      "execution_count": null,
      "outputs": [
        {
          "output_type": "display_data",
          "data": {
            "text/html": [
              "\n",
              "     <input type=\"file\" id=\"files-1f477b9f-3873-4b68-b608-ca05817bc638\" name=\"files[]\" multiple disabled\n",
              "        style=\"border:none\" />\n",
              "     <output id=\"result-1f477b9f-3873-4b68-b608-ca05817bc638\">\n",
              "      Upload widget is only available when the cell has been executed in the\n",
              "      current browser session. Please rerun this cell to enable.\n",
              "      </output>\n",
              "      <script src=\"/nbextensions/google.colab/files.js\"></script> "
            ],
            "text/plain": [
              "<IPython.core.display.HTML object>"
            ]
          },
          "metadata": {}
        },
        {
          "output_type": "stream",
          "name": "stdout",
          "text": [
            "Saving amzn_testing.csv to amzn_testing.csv\n"
          ]
        }
      ]
    },
    {
      "cell_type": "code",
      "metadata": {
        "id": "ozbXdiZLDCi-"
      },
      "source": [
        "import io\n",
        "amazon_testing_complete = pd.read_csv(io.BytesIO(uploaded2['amzn_testing.csv']))"
      ],
      "id": "ozbXdiZLDCi-",
      "execution_count": null,
      "outputs": []
    },
    {
      "cell_type": "code",
      "metadata": {
        "id": "crplAnxPJXbs"
      },
      "source": [
        "l=[]\n",
        "for i in amazon_testing_complete['Open']:\n",
        "  l.append(i)\n"
      ],
      "id": "crplAnxPJXbs",
      "execution_count": null,
      "outputs": []
    },
    {
      "cell_type": "code",
      "metadata": {
        "id": "2cT0W5CzFWZ0"
      },
      "source": [
        "lh=[]\n",
        "for i in amazon_testing_complete['High']:\n",
        "  lh.append(i)"
      ],
      "id": "2cT0W5CzFWZ0",
      "execution_count": null,
      "outputs": []
    },
    {
      "cell_type": "code",
      "metadata": {
        "id": "e16gqTFSIYig"
      },
      "source": [
        "ld=[]\n",
        "for i in amazon_testing_complete['Date']:\n",
        "  ld.append(i)"
      ],
      "id": "e16gqTFSIYig",
      "execution_count": null,
      "outputs": []
    },
    {
      "cell_type": "code",
      "metadata": {
        "id": "Zykep5UAFhuL"
      },
      "source": [
        "dftest = pd.DataFrame({'Date':ld, 'Open':l, 'High':lh}, columns = ['Date', 'Open', 'High'])"
      ],
      "id": "Zykep5UAFhuL",
      "execution_count": null,
      "outputs": []
    },
    {
      "cell_type": "code",
      "metadata": {
        "colab": {
          "base_uri": "https://localhost:8080/",
          "height": 669
        },
        "id": "bJqJAmzpGXw1",
        "outputId": "d3e345de-5dbb-496c-e498-4549aaab0a06"
      },
      "source": [
        "dftest"
      ],
      "id": "bJqJAmzpGXw1",
      "execution_count": null,
      "outputs": [
        {
          "output_type": "execute_result",
          "data": {
            "text/html": [
              "<div>\n",
              "<style scoped>\n",
              "    .dataframe tbody tr th:only-of-type {\n",
              "        vertical-align: middle;\n",
              "    }\n",
              "\n",
              "    .dataframe tbody tr th {\n",
              "        vertical-align: top;\n",
              "    }\n",
              "\n",
              "    .dataframe thead th {\n",
              "        text-align: right;\n",
              "    }\n",
              "</style>\n",
              "<table border=\"1\" class=\"dataframe\">\n",
              "  <thead>\n",
              "    <tr style=\"text-align: right;\">\n",
              "      <th></th>\n",
              "      <th>Date</th>\n",
              "      <th>Open</th>\n",
              "      <th>High</th>\n",
              "    </tr>\n",
              "  </thead>\n",
              "  <tbody>\n",
              "    <tr>\n",
              "      <th>0</th>\n",
              "      <td>2021-08-02</td>\n",
              "      <td>3353.100098</td>\n",
              "      <td>3358.919922</td>\n",
              "    </tr>\n",
              "    <tr>\n",
              "      <th>1</th>\n",
              "      <td>2021-08-03</td>\n",
              "      <td>3340.719971</td>\n",
              "      <td>3391.000000</td>\n",
              "    </tr>\n",
              "    <tr>\n",
              "      <th>2</th>\n",
              "      <td>2021-08-04</td>\n",
              "      <td>3379.350098</td>\n",
              "      <td>3388.879883</td>\n",
              "    </tr>\n",
              "    <tr>\n",
              "      <th>3</th>\n",
              "      <td>2021-08-05</td>\n",
              "      <td>3356.219971</td>\n",
              "      <td>3389.000000</td>\n",
              "    </tr>\n",
              "    <tr>\n",
              "      <th>4</th>\n",
              "      <td>2021-08-06</td>\n",
              "      <td>3375.000000</td>\n",
              "      <td>3375.000000</td>\n",
              "    </tr>\n",
              "    <tr>\n",
              "      <th>5</th>\n",
              "      <td>2021-08-09</td>\n",
              "      <td>3343.610107</td>\n",
              "      <td>3354.879883</td>\n",
              "    </tr>\n",
              "    <tr>\n",
              "      <th>6</th>\n",
              "      <td>2021-08-10</td>\n",
              "      <td>3345.010010</td>\n",
              "      <td>3358.000000</td>\n",
              "    </tr>\n",
              "    <tr>\n",
              "      <th>7</th>\n",
              "      <td>2021-08-11</td>\n",
              "      <td>3331.449951</td>\n",
              "      <td>3337.699951</td>\n",
              "    </tr>\n",
              "    <tr>\n",
              "      <th>8</th>\n",
              "      <td>2021-08-12</td>\n",
              "      <td>3290.000000</td>\n",
              "      <td>3314.510010</td>\n",
              "    </tr>\n",
              "    <tr>\n",
              "      <th>9</th>\n",
              "      <td>2021-08-13</td>\n",
              "      <td>3305.669922</td>\n",
              "      <td>3306.070068</td>\n",
              "    </tr>\n",
              "    <tr>\n",
              "      <th>10</th>\n",
              "      <td>2021-08-16</td>\n",
              "      <td>3283.000000</td>\n",
              "      <td>3300.000000</td>\n",
              "    </tr>\n",
              "    <tr>\n",
              "      <th>11</th>\n",
              "      <td>2021-08-17</td>\n",
              "      <td>3277.500000</td>\n",
              "      <td>3280.489990</td>\n",
              "    </tr>\n",
              "    <tr>\n",
              "      <th>12</th>\n",
              "      <td>2021-08-18</td>\n",
              "      <td>3241.989990</td>\n",
              "      <td>3254.100098</td>\n",
              "    </tr>\n",
              "    <tr>\n",
              "      <th>13</th>\n",
              "      <td>2021-08-19</td>\n",
              "      <td>3194.020020</td>\n",
              "      <td>3233.000000</td>\n",
              "    </tr>\n",
              "    <tr>\n",
              "      <th>14</th>\n",
              "      <td>2021-08-20</td>\n",
              "      <td>3203.870117</td>\n",
              "      <td>3207.810059</td>\n",
              "    </tr>\n",
              "    <tr>\n",
              "      <th>15</th>\n",
              "      <td>2021-08-23</td>\n",
              "      <td>3211.899902</td>\n",
              "      <td>3280.899902</td>\n",
              "    </tr>\n",
              "    <tr>\n",
              "      <th>16</th>\n",
              "      <td>2021-08-24</td>\n",
              "      <td>3280.000000</td>\n",
              "      <td>3315.489990</td>\n",
              "    </tr>\n",
              "    <tr>\n",
              "      <th>17</th>\n",
              "      <td>2021-08-25</td>\n",
              "      <td>3309.870117</td>\n",
              "      <td>3321.000000</td>\n",
              "    </tr>\n",
              "    <tr>\n",
              "      <th>18</th>\n",
              "      <td>2021-08-26</td>\n",
              "      <td>3299.000000</td>\n",
              "      <td>3332.000000</td>\n",
              "    </tr>\n",
              "    <tr>\n",
              "      <th>19</th>\n",
              "      <td>2021-08-27</td>\n",
              "      <td>3333.229980</td>\n",
              "      <td>3352.320068</td>\n",
              "    </tr>\n",
              "  </tbody>\n",
              "</table>\n",
              "</div>"
            ],
            "text/plain": [
              "          Date         Open         High\n",
              "0   2021-08-02  3353.100098  3358.919922\n",
              "1   2021-08-03  3340.719971  3391.000000\n",
              "2   2021-08-04  3379.350098  3388.879883\n",
              "3   2021-08-05  3356.219971  3389.000000\n",
              "4   2021-08-06  3375.000000  3375.000000\n",
              "5   2021-08-09  3343.610107  3354.879883\n",
              "6   2021-08-10  3345.010010  3358.000000\n",
              "7   2021-08-11  3331.449951  3337.699951\n",
              "8   2021-08-12  3290.000000  3314.510010\n",
              "9   2021-08-13  3305.669922  3306.070068\n",
              "10  2021-08-16  3283.000000  3300.000000\n",
              "11  2021-08-17  3277.500000  3280.489990\n",
              "12  2021-08-18  3241.989990  3254.100098\n",
              "13  2021-08-19  3194.020020  3233.000000\n",
              "14  2021-08-20  3203.870117  3207.810059\n",
              "15  2021-08-23  3211.899902  3280.899902\n",
              "16  2021-08-24  3280.000000  3315.489990\n",
              "17  2021-08-25  3309.870117  3321.000000\n",
              "18  2021-08-26  3299.000000  3332.000000\n",
              "19  2021-08-27  3333.229980  3352.320068"
            ]
          },
          "metadata": {},
          "execution_count": 9
        }
      ]
    },
    {
      "cell_type": "code",
      "metadata": {
        "id": "9-sWhVhW_YAE"
      },
      "source": [
        "import io\n",
        "amazon_training_complete = pd.read_csv(io.BytesIO(uploaded1['AMZN.csv']))"
      ],
      "id": "9-sWhVhW_YAE",
      "execution_count": null,
      "outputs": []
    },
    {
      "cell_type": "code",
      "metadata": {
        "id": "ZmCTc9ca_YAF"
      },
      "source": [
        "amazon_training_processed = amazon_training_complete.iloc[:, 1:2].values"
      ],
      "id": "ZmCTc9ca_YAF",
      "execution_count": null,
      "outputs": []
    },
    {
      "cell_type": "code",
      "metadata": {
        "id": "UactgWPqDWf0"
      },
      "source": [
        "l=[]\n",
        "for i in amazon_training_complete['Open']:\n",
        "  l.append(i)\n",
        "lh=[]\n",
        "for i in amazon_training_complete['High']:\n",
        "  lh.append(i)\n",
        "ld=[]\n",
        "for i in amazon_training_complete['Date']:\n",
        "  ld.append(i)\n",
        "\n",
        "dftrain = pd.DataFrame({'Date':ld, 'Open':l, 'High':lh}, columns = ['Date','Open', 'High'])"
      ],
      "id": "UactgWPqDWf0",
      "execution_count": null,
      "outputs": []
    },
    {
      "cell_type": "code",
      "metadata": {
        "colab": {
          "base_uri": "https://localhost:8080/",
          "height": 419
        },
        "id": "5Dq4vuvrJtAI",
        "outputId": "01e0e538-3b26-446e-c0ee-ef026fb14f71"
      },
      "source": [
        "dftrain"
      ],
      "id": "5Dq4vuvrJtAI",
      "execution_count": null,
      "outputs": [
        {
          "output_type": "execute_result",
          "data": {
            "text/html": [
              "<div>\n",
              "<style scoped>\n",
              "    .dataframe tbody tr th:only-of-type {\n",
              "        vertical-align: middle;\n",
              "    }\n",
              "\n",
              "    .dataframe tbody tr th {\n",
              "        vertical-align: top;\n",
              "    }\n",
              "\n",
              "    .dataframe thead th {\n",
              "        text-align: right;\n",
              "    }\n",
              "</style>\n",
              "<table border=\"1\" class=\"dataframe\">\n",
              "  <thead>\n",
              "    <tr style=\"text-align: right;\">\n",
              "      <th></th>\n",
              "      <th>Date</th>\n",
              "      <th>Open</th>\n",
              "      <th>High</th>\n",
              "    </tr>\n",
              "  </thead>\n",
              "  <tbody>\n",
              "    <tr>\n",
              "      <th>0</th>\n",
              "      <td>2018-08-01</td>\n",
              "      <td>1784.000000</td>\n",
              "      <td>1798.439941</td>\n",
              "    </tr>\n",
              "    <tr>\n",
              "      <th>1</th>\n",
              "      <td>2018-08-02</td>\n",
              "      <td>1788.770020</td>\n",
              "      <td>1836.560059</td>\n",
              "    </tr>\n",
              "    <tr>\n",
              "      <th>2</th>\n",
              "      <td>2018-08-03</td>\n",
              "      <td>1837.739990</td>\n",
              "      <td>1841.000000</td>\n",
              "    </tr>\n",
              "    <tr>\n",
              "      <th>3</th>\n",
              "      <td>2018-08-06</td>\n",
              "      <td>1825.810059</td>\n",
              "      <td>1847.770020</td>\n",
              "    </tr>\n",
              "    <tr>\n",
              "      <th>4</th>\n",
              "      <td>2018-08-07</td>\n",
              "      <td>1854.530029</td>\n",
              "      <td>1869.719971</td>\n",
              "    </tr>\n",
              "    <tr>\n",
              "      <th>...</th>\n",
              "      <td>...</td>\n",
              "      <td>...</td>\n",
              "      <td>...</td>\n",
              "    </tr>\n",
              "    <tr>\n",
              "      <th>749</th>\n",
              "      <td>2021-07-23</td>\n",
              "      <td>3640.000000</td>\n",
              "      <td>3666.110107</td>\n",
              "    </tr>\n",
              "    <tr>\n",
              "      <th>750</th>\n",
              "      <td>2021-07-26</td>\n",
              "      <td>3673.169922</td>\n",
              "      <td>3712.080078</td>\n",
              "    </tr>\n",
              "    <tr>\n",
              "      <th>751</th>\n",
              "      <td>2021-07-27</td>\n",
              "      <td>3698.500000</td>\n",
              "      <td>3698.500000</td>\n",
              "    </tr>\n",
              "    <tr>\n",
              "      <th>752</th>\n",
              "      <td>2021-07-28</td>\n",
              "      <td>3633.780029</td>\n",
              "      <td>3658.419922</td>\n",
              "    </tr>\n",
              "    <tr>\n",
              "      <th>753</th>\n",
              "      <td>2021-07-29</td>\n",
              "      <td>3627.750000</td>\n",
              "      <td>3637.949951</td>\n",
              "    </tr>\n",
              "  </tbody>\n",
              "</table>\n",
              "<p>754 rows × 3 columns</p>\n",
              "</div>"
            ],
            "text/plain": [
              "           Date         Open         High\n",
              "0    2018-08-01  1784.000000  1798.439941\n",
              "1    2018-08-02  1788.770020  1836.560059\n",
              "2    2018-08-03  1837.739990  1841.000000\n",
              "3    2018-08-06  1825.810059  1847.770020\n",
              "4    2018-08-07  1854.530029  1869.719971\n",
              "..          ...          ...          ...\n",
              "749  2021-07-23  3640.000000  3666.110107\n",
              "750  2021-07-26  3673.169922  3712.080078\n",
              "751  2021-07-27  3698.500000  3698.500000\n",
              "752  2021-07-28  3633.780029  3658.419922\n",
              "753  2021-07-29  3627.750000  3637.949951\n",
              "\n",
              "[754 rows x 3 columns]"
            ]
          },
          "metadata": {},
          "execution_count": 13
        }
      ]
    },
    {
      "cell_type": "code",
      "metadata": {
        "id": "W5KSm6aX_YAG"
      },
      "source": [
        "from sklearn.preprocessing import MinMaxScaler\n",
        "scaler = MinMaxScaler(feature_range = (0, 1))\n",
        "\n",
        "amazon_training_scaled = scaler.fit_transform(amazon_training_processed)"
      ],
      "id": "W5KSm6aX_YAG",
      "execution_count": null,
      "outputs": []
    },
    {
      "cell_type": "code",
      "metadata": {
        "id": "bUhEmzbC_YAI"
      },
      "source": [
        "features_set = []\n",
        "labels = []\n",
        "for i in range(60, 748):\n",
        "    features_set.append(amazon_training_scaled[i-60:i, 0])\n",
        "    labels.append(amazon_training_scaled[i, 0])"
      ],
      "id": "bUhEmzbC_YAI",
      "execution_count": null,
      "outputs": []
    },
    {
      "cell_type": "code",
      "metadata": {
        "id": "pdTcySEL_YAJ"
      },
      "source": [
        "features_set, labels = np.array(features_set), np.array(labels)"
      ],
      "id": "pdTcySEL_YAJ",
      "execution_count": null,
      "outputs": []
    },
    {
      "cell_type": "code",
      "metadata": {
        "id": "iq0QPALD_YAK"
      },
      "source": [
        "features_set = np.reshape(features_set, (features_set.shape[0], features_set.shape[1], 1))"
      ],
      "id": "iq0QPALD_YAK",
      "execution_count": null,
      "outputs": []
    },
    {
      "cell_type": "code",
      "metadata": {
        "id": "rCO4W0Fw_YAM"
      },
      "source": [
        "from keras.models import Sequential\n",
        "from keras.layers import Dense\n",
        "from keras.layers import LSTM\n",
        "from keras.layers import Dropout"
      ],
      "id": "rCO4W0Fw_YAM",
      "execution_count": null,
      "outputs": []
    },
    {
      "cell_type": "code",
      "metadata": {
        "id": "MthLiQ3j_YAO"
      },
      "source": [
        "model = Sequential()"
      ],
      "id": "MthLiQ3j_YAO",
      "execution_count": null,
      "outputs": []
    },
    {
      "cell_type": "code",
      "metadata": {
        "id": "XM6wyF5D_YAQ"
      },
      "source": [
        "model.add(LSTM(units=50, return_sequences=True, input_shape=(features_set.shape[1], 1)))"
      ],
      "id": "XM6wyF5D_YAQ",
      "execution_count": null,
      "outputs": []
    },
    {
      "cell_type": "code",
      "metadata": {
        "id": "hteCgHk9_YAR"
      },
      "source": [
        "model.add(Dropout(0.2))"
      ],
      "id": "hteCgHk9_YAR",
      "execution_count": null,
      "outputs": []
    },
    {
      "cell_type": "code",
      "metadata": {
        "id": "GvD3eGCQ_YAS"
      },
      "source": [
        "model.add(LSTM(units=50, return_sequences=True))\n",
        "model.add(Dropout(0.2))\n",
        "\n",
        "model.add(LSTM(units=50, return_sequences=True))\n",
        "model.add(Dropout(0.2))\n",
        "\n",
        "model.add(LSTM(units=50, return_sequences=True))\n",
        "model.add(Dropout(0.2))\n",
        "\n",
        "model.add(LSTM(units=50))\n",
        "model.add(Dropout(0.2))\n"
      ],
      "id": "GvD3eGCQ_YAS",
      "execution_count": null,
      "outputs": []
    },
    {
      "cell_type": "code",
      "metadata": {
        "id": "_fcg2I48_YAT"
      },
      "source": [
        "model.add(Dense(units = 1))"
      ],
      "id": "_fcg2I48_YAT",
      "execution_count": null,
      "outputs": []
    },
    {
      "cell_type": "code",
      "metadata": {
        "id": "CojoZUWq_YAU"
      },
      "source": [
        "model.compile(optimizer = 'adam', loss = 'mean_squared_error')"
      ],
      "id": "CojoZUWq_YAU",
      "execution_count": null,
      "outputs": []
    },
    {
      "cell_type": "code",
      "metadata": {
        "id": "2gAa7dCP_YAV",
        "colab": {
          "base_uri": "https://localhost:8080/"
        },
        "outputId": "ed50857f-8453-4916-bba3-02d6fa180930"
      },
      "source": [
        "model.fit(features_set, labels, epochs = 100,  batch_size = 32   )"
      ],
      "id": "2gAa7dCP_YAV",
      "execution_count": null,
      "outputs": [
        {
          "output_type": "stream",
          "name": "stdout",
          "text": [
            "Epoch 1/100\n",
            "22/22 [==============================] - 11s 149ms/step - loss: 0.0598\n",
            "Epoch 2/100\n",
            "22/22 [==============================] - 3s 154ms/step - loss: 0.0098\n",
            "Epoch 3/100\n",
            "22/22 [==============================] - 3s 148ms/step - loss: 0.0074\n",
            "Epoch 4/100\n",
            "22/22 [==============================] - 3s 151ms/step - loss: 0.0071\n",
            "Epoch 5/100\n",
            "22/22 [==============================] - 3s 151ms/step - loss: 0.0063\n",
            "Epoch 6/100\n",
            "22/22 [==============================] - 3s 148ms/step - loss: 0.0059\n",
            "Epoch 7/100\n",
            "22/22 [==============================] - 3s 150ms/step - loss: 0.0069\n",
            "Epoch 8/100\n",
            "22/22 [==============================] - 3s 155ms/step - loss: 0.0058\n",
            "Epoch 9/100\n",
            "22/22 [==============================] - 3s 151ms/step - loss: 0.0062\n",
            "Epoch 10/100\n",
            "22/22 [==============================] - 3s 154ms/step - loss: 0.0070\n",
            "Epoch 11/100\n",
            "22/22 [==============================] - 3s 153ms/step - loss: 0.0064\n",
            "Epoch 12/100\n",
            "22/22 [==============================] - 3s 154ms/step - loss: 0.0062\n",
            "Epoch 13/100\n",
            "22/22 [==============================] - 3s 151ms/step - loss: 0.0064\n",
            "Epoch 14/100\n",
            "22/22 [==============================] - 3s 153ms/step - loss: 0.0051\n",
            "Epoch 15/100\n",
            "22/22 [==============================] - 3s 154ms/step - loss: 0.0051\n",
            "Epoch 16/100\n",
            "22/22 [==============================] - 3s 153ms/step - loss: 0.0059\n",
            "Epoch 17/100\n",
            "22/22 [==============================] - 3s 155ms/step - loss: 0.0057\n",
            "Epoch 18/100\n",
            "22/22 [==============================] - 3s 154ms/step - loss: 0.0052\n",
            "Epoch 19/100\n",
            "22/22 [==============================] - 3s 150ms/step - loss: 0.0055\n",
            "Epoch 20/100\n",
            "22/22 [==============================] - 3s 154ms/step - loss: 0.0050\n",
            "Epoch 21/100\n",
            "22/22 [==============================] - 3s 151ms/step - loss: 0.0062\n",
            "Epoch 22/100\n",
            "22/22 [==============================] - 3s 152ms/step - loss: 0.0046\n",
            "Epoch 23/100\n",
            "22/22 [==============================] - 3s 154ms/step - loss: 0.0053\n",
            "Epoch 24/100\n",
            "22/22 [==============================] - 3s 152ms/step - loss: 0.0047\n",
            "Epoch 25/100\n",
            "22/22 [==============================] - 3s 153ms/step - loss: 0.0043\n",
            "Epoch 26/100\n",
            "22/22 [==============================] - 3s 150ms/step - loss: 0.0049\n",
            "Epoch 27/100\n",
            "22/22 [==============================] - 3s 153ms/step - loss: 0.0058\n",
            "Epoch 28/100\n",
            "22/22 [==============================] - 3s 156ms/step - loss: 0.0054\n",
            "Epoch 29/100\n",
            "22/22 [==============================] - 3s 151ms/step - loss: 0.0040\n",
            "Epoch 30/100\n",
            "22/22 [==============================] - 3s 153ms/step - loss: 0.0046\n",
            "Epoch 31/100\n",
            "22/22 [==============================] - 3s 153ms/step - loss: 0.0045\n",
            "Epoch 32/100\n",
            "22/22 [==============================] - 3s 156ms/step - loss: 0.0042\n",
            "Epoch 33/100\n",
            "22/22 [==============================] - 3s 153ms/step - loss: 0.0038\n",
            "Epoch 34/100\n",
            "22/22 [==============================] - 3s 154ms/step - loss: 0.0035\n",
            "Epoch 35/100\n",
            "22/22 [==============================] - 3s 154ms/step - loss: 0.0042\n",
            "Epoch 36/100\n",
            "22/22 [==============================] - 3s 151ms/step - loss: 0.0038\n",
            "Epoch 37/100\n",
            "22/22 [==============================] - 3s 150ms/step - loss: 0.0038\n",
            "Epoch 38/100\n",
            "22/22 [==============================] - 3s 150ms/step - loss: 0.0036\n",
            "Epoch 39/100\n",
            "22/22 [==============================] - 3s 153ms/step - loss: 0.0042\n",
            "Epoch 40/100\n",
            "22/22 [==============================] - 3s 150ms/step - loss: 0.0038\n",
            "Epoch 41/100\n",
            "22/22 [==============================] - 3s 154ms/step - loss: 0.0040\n",
            "Epoch 42/100\n",
            "22/22 [==============================] - 3s 147ms/step - loss: 0.0035\n",
            "Epoch 43/100\n",
            "22/22 [==============================] - 3s 148ms/step - loss: 0.0040\n",
            "Epoch 44/100\n",
            "22/22 [==============================] - 3s 153ms/step - loss: 0.0035\n",
            "Epoch 45/100\n",
            "22/22 [==============================] - 3s 153ms/step - loss: 0.0037\n",
            "Epoch 46/100\n",
            "22/22 [==============================] - 3s 152ms/step - loss: 0.0038\n",
            "Epoch 47/100\n",
            "22/22 [==============================] - 3s 149ms/step - loss: 0.0036\n",
            "Epoch 48/100\n",
            "22/22 [==============================] - 3s 153ms/step - loss: 0.0035\n",
            "Epoch 49/100\n",
            "22/22 [==============================] - 3s 153ms/step - loss: 0.0035\n",
            "Epoch 50/100\n",
            "22/22 [==============================] - 3s 151ms/step - loss: 0.0037\n",
            "Epoch 51/100\n",
            "22/22 [==============================] - 3s 151ms/step - loss: 0.0034\n",
            "Epoch 52/100\n",
            "22/22 [==============================] - 3s 152ms/step - loss: 0.0036\n",
            "Epoch 53/100\n",
            "22/22 [==============================] - 3s 157ms/step - loss: 0.0031\n",
            "Epoch 54/100\n",
            "22/22 [==============================] - 3s 153ms/step - loss: 0.0040\n",
            "Epoch 55/100\n",
            "22/22 [==============================] - 3s 151ms/step - loss: 0.0031\n",
            "Epoch 56/100\n",
            "22/22 [==============================] - 3s 151ms/step - loss: 0.0030\n",
            "Epoch 57/100\n",
            "22/22 [==============================] - 3s 151ms/step - loss: 0.0033\n",
            "Epoch 58/100\n",
            "22/22 [==============================] - 3s 154ms/step - loss: 0.0033\n",
            "Epoch 59/100\n",
            "22/22 [==============================] - 3s 153ms/step - loss: 0.0033\n",
            "Epoch 60/100\n",
            "22/22 [==============================] - 3s 156ms/step - loss: 0.0031\n",
            "Epoch 61/100\n",
            "22/22 [==============================] - 3s 152ms/step - loss: 0.0031\n",
            "Epoch 62/100\n",
            "22/22 [==============================] - 3s 150ms/step - loss: 0.0032\n",
            "Epoch 63/100\n",
            "22/22 [==============================] - 3s 153ms/step - loss: 0.0034\n",
            "Epoch 64/100\n",
            "22/22 [==============================] - 3s 152ms/step - loss: 0.0031\n",
            "Epoch 65/100\n",
            "22/22 [==============================] - 3s 152ms/step - loss: 0.0030\n",
            "Epoch 66/100\n",
            "22/22 [==============================] - 3s 154ms/step - loss: 0.0031\n",
            "Epoch 67/100\n",
            "22/22 [==============================] - 3s 152ms/step - loss: 0.0030\n",
            "Epoch 68/100\n",
            "22/22 [==============================] - 3s 151ms/step - loss: 0.0031\n",
            "Epoch 69/100\n",
            "22/22 [==============================] - 3s 156ms/step - loss: 0.0035\n",
            "Epoch 70/100\n",
            "22/22 [==============================] - 3s 156ms/step - loss: 0.0041\n",
            "Epoch 71/100\n",
            "22/22 [==============================] - 3s 154ms/step - loss: 0.0035\n",
            "Epoch 72/100\n",
            "22/22 [==============================] - 3s 156ms/step - loss: 0.0028\n",
            "Epoch 73/100\n",
            "22/22 [==============================] - 3s 154ms/step - loss: 0.0029\n",
            "Epoch 74/100\n",
            "22/22 [==============================] - 3s 152ms/step - loss: 0.0029\n",
            "Epoch 75/100\n",
            "22/22 [==============================] - 3s 153ms/step - loss: 0.0031\n",
            "Epoch 76/100\n",
            "22/22 [==============================] - 3s 153ms/step - loss: 0.0029\n",
            "Epoch 77/100\n",
            "22/22 [==============================] - 3s 152ms/step - loss: 0.0026\n",
            "Epoch 78/100\n",
            "22/22 [==============================] - 3s 154ms/step - loss: 0.0031\n",
            "Epoch 79/100\n",
            "22/22 [==============================] - 3s 153ms/step - loss: 0.0030\n",
            "Epoch 80/100\n",
            "22/22 [==============================] - 3s 152ms/step - loss: 0.0028\n",
            "Epoch 81/100\n",
            "22/22 [==============================] - 3s 154ms/step - loss: 0.0027\n",
            "Epoch 82/100\n",
            "22/22 [==============================] - 3s 152ms/step - loss: 0.0025\n",
            "Epoch 83/100\n",
            "22/22 [==============================] - 3s 151ms/step - loss: 0.0028\n",
            "Epoch 84/100\n",
            "22/22 [==============================] - 3s 155ms/step - loss: 0.0025\n",
            "Epoch 85/100\n",
            "22/22 [==============================] - 3s 152ms/step - loss: 0.0032\n",
            "Epoch 86/100\n",
            "22/22 [==============================] - 3s 149ms/step - loss: 0.0025\n",
            "Epoch 87/100\n",
            "22/22 [==============================] - 3s 155ms/step - loss: 0.0028\n",
            "Epoch 88/100\n",
            "22/22 [==============================] - 3s 152ms/step - loss: 0.0026\n",
            "Epoch 89/100\n",
            "22/22 [==============================] - 3s 154ms/step - loss: 0.0028\n",
            "Epoch 90/100\n",
            "22/22 [==============================] - 3s 152ms/step - loss: 0.0025\n",
            "Epoch 91/100\n",
            "22/22 [==============================] - 3s 159ms/step - loss: 0.0026\n",
            "Epoch 92/100\n",
            "22/22 [==============================] - 3s 152ms/step - loss: 0.0028\n",
            "Epoch 93/100\n",
            "22/22 [==============================] - 3s 156ms/step - loss: 0.0024\n",
            "Epoch 94/100\n",
            "22/22 [==============================] - 3s 152ms/step - loss: 0.0028\n",
            "Epoch 95/100\n",
            "22/22 [==============================] - 3s 155ms/step - loss: 0.0029\n",
            "Epoch 96/100\n",
            "22/22 [==============================] - 3s 153ms/step - loss: 0.0024\n",
            "Epoch 97/100\n",
            "22/22 [==============================] - 3s 153ms/step - loss: 0.0025\n",
            "Epoch 98/100\n",
            "22/22 [==============================] - 3s 154ms/step - loss: 0.0022\n",
            "Epoch 99/100\n",
            "22/22 [==============================] - 3s 153ms/step - loss: 0.0023\n",
            "Epoch 100/100\n",
            "22/22 [==============================] - 3s 152ms/step - loss: 0.0025\n"
          ]
        },
        {
          "output_type": "execute_result",
          "data": {
            "text/plain": [
              "<keras.callbacks.History at 0x7f3dc3981850>"
            ]
          },
          "metadata": {},
          "execution_count": 25
        }
      ]
    },
    {
      "cell_type": "code",
      "metadata": {
        "colab": {
          "base_uri": "https://localhost:8080/"
        },
        "id": "LhD3VywJ6IvG",
        "outputId": "e76c386b-4bff-4a56-e63e-1f6043edfc30"
      },
      "source": [
        "print(model.summary())"
      ],
      "id": "LhD3VywJ6IvG",
      "execution_count": null,
      "outputs": [
        {
          "output_type": "stream",
          "name": "stdout",
          "text": [
            "Model: \"sequential\"\n",
            "_________________________________________________________________\n",
            "Layer (type)                 Output Shape              Param #   \n",
            "=================================================================\n",
            "lstm (LSTM)                  (None, 60, 50)            10400     \n",
            "_________________________________________________________________\n",
            "dropout (Dropout)            (None, 60, 50)            0         \n",
            "_________________________________________________________________\n",
            "lstm_1 (LSTM)                (None, 60, 50)            20200     \n",
            "_________________________________________________________________\n",
            "dropout_1 (Dropout)          (None, 60, 50)            0         \n",
            "_________________________________________________________________\n",
            "lstm_2 (LSTM)                (None, 60, 50)            20200     \n",
            "_________________________________________________________________\n",
            "dropout_2 (Dropout)          (None, 60, 50)            0         \n",
            "_________________________________________________________________\n",
            "lstm_3 (LSTM)                (None, 60, 50)            20200     \n",
            "_________________________________________________________________\n",
            "dropout_3 (Dropout)          (None, 60, 50)            0         \n",
            "_________________________________________________________________\n",
            "lstm_4 (LSTM)                (None, 50)                20200     \n",
            "_________________________________________________________________\n",
            "dropout_4 (Dropout)          (None, 50)                0         \n",
            "_________________________________________________________________\n",
            "dense (Dense)                (None, 1)                 51        \n",
            "=================================================================\n",
            "Total params: 91,251\n",
            "Trainable params: 91,251\n",
            "Non-trainable params: 0\n",
            "_________________________________________________________________\n",
            "None\n"
          ]
        }
      ]
    },
    {
      "cell_type": "code",
      "metadata": {
        "id": "mzjoOdt7_YAW"
      },
      "source": [
        "amazon_testing_processed = amazon_testing_complete.iloc[:, 1:2].values"
      ],
      "id": "mzjoOdt7_YAW",
      "execution_count": null,
      "outputs": []
    },
    {
      "cell_type": "code",
      "metadata": {
        "id": "FAe5gl_P_YAX"
      },
      "source": [
        "amazon_total = pd.concat((amazon_training_complete['Open'], amazon_testing_complete['Open']), axis=0)"
      ],
      "id": "FAe5gl_P_YAX",
      "execution_count": null,
      "outputs": []
    },
    {
      "cell_type": "code",
      "metadata": {
        "id": "N_0XwKpQ_YAX"
      },
      "source": [
        "test_inputs = amazon_total[len(amazon_total) - len(amazon_testing_complete) - 60:].values"
      ],
      "id": "N_0XwKpQ_YAX",
      "execution_count": null,
      "outputs": []
    },
    {
      "cell_type": "code",
      "metadata": {
        "id": "bT6BA2hb_YAY"
      },
      "source": [
        "test_inputs = test_inputs.reshape(-1,1)\n",
        "test_inputs = scaler.transform(test_inputs)"
      ],
      "id": "bT6BA2hb_YAY",
      "execution_count": null,
      "outputs": []
    },
    {
      "cell_type": "code",
      "metadata": {
        "id": "rQiVn0vp_YAZ"
      },
      "source": [
        "test_features = []\n",
        "for i in range(60, 80): test_features.append(test_inputs[i-60:i, 0])"
      ],
      "id": "rQiVn0vp_YAZ",
      "execution_count": null,
      "outputs": []
    },
    {
      "cell_type": "code",
      "metadata": {
        "id": "86jDrp2a_YAZ"
      },
      "source": [
        "test_features = np.array(test_features)\n",
        "test_features = np.reshape(test_features, (test_features.shape[0], test_features.shape[1], 1))"
      ],
      "id": "86jDrp2a_YAZ",
      "execution_count": null,
      "outputs": []
    },
    {
      "cell_type": "code",
      "metadata": {
        "id": "hWoRMJKK_YAa"
      },
      "source": [
        "predictions = model.predict(test_features)"
      ],
      "id": "hWoRMJKK_YAa",
      "execution_count": null,
      "outputs": []
    },
    {
      "cell_type": "code",
      "metadata": {
        "id": "OcHFG_gF_YAa"
      },
      "source": [
        "predictions = scaler.inverse_transform(predictions)"
      ],
      "id": "OcHFG_gF_YAa",
      "execution_count": null,
      "outputs": []
    },
    {
      "cell_type": "code",
      "metadata": {
        "colab": {
          "base_uri": "https://localhost:8080/"
        },
        "id": "KKVanz8p4sfw",
        "outputId": "c7872ca1-3b4a-4c22-c0fb-4cb1f0b2cb18"
      },
      "source": [
        "len(test_inputs )"
      ],
      "id": "KKVanz8p4sfw",
      "execution_count": null,
      "outputs": [
        {
          "output_type": "execute_result",
          "data": {
            "text/plain": [
              "80"
            ]
          },
          "metadata": {},
          "execution_count": 35
        }
      ]
    },
    {
      "cell_type": "code",
      "metadata": {
        "colab": {
          "base_uri": "https://localhost:8080/"
        },
        "id": "QDi4kwac5R68",
        "outputId": "4e4e952e-0da1-42b1-b8cb-de88f05f671b"
      },
      "source": [
        "len(features_set)"
      ],
      "id": "QDi4kwac5R68",
      "execution_count": null,
      "outputs": [
        {
          "output_type": "execute_result",
          "data": {
            "text/plain": [
              "688"
            ]
          },
          "metadata": {},
          "execution_count": 36
        }
      ]
    },
    {
      "cell_type": "code",
      "metadata": {
        "colab": {
          "base_uri": "https://localhost:8080/"
        },
        "id": "3rDGGI8S7g-p",
        "outputId": "cfd18d92-e9c2-4d52-9a0f-9c85120cd274"
      },
      "source": [
        "len(labels)"
      ],
      "id": "3rDGGI8S7g-p",
      "execution_count": null,
      "outputs": [
        {
          "output_type": "execute_result",
          "data": {
            "text/plain": [
              "688"
            ]
          },
          "metadata": {},
          "execution_count": 37
        }
      ]
    },
    {
      "cell_type": "code",
      "metadata": {
        "colab": {
          "base_uri": "https://localhost:8080/"
        },
        "id": "0oCSXqm8hzqu",
        "outputId": "abce47fb-758d-41d6-927f-e933697a095f"
      },
      "source": [
        "len(predictions)"
      ],
      "id": "0oCSXqm8hzqu",
      "execution_count": null,
      "outputs": [
        {
          "output_type": "execute_result",
          "data": {
            "text/plain": [
              "20"
            ]
          },
          "metadata": {},
          "execution_count": 43
        }
      ]
    },
    {
      "cell_type": "code",
      "metadata": {
        "colab": {
          "base_uri": "https://localhost:8080/"
        },
        "id": "BPFniESkiAcp",
        "outputId": "6d3223dd-ecd5-42bd-985b-452000fff6fc"
      },
      "source": [
        "len(test_features)"
      ],
      "id": "BPFniESkiAcp",
      "execution_count": null,
      "outputs": [
        {
          "output_type": "execute_result",
          "data": {
            "text/plain": [
              "20"
            ]
          },
          "metadata": {},
          "execution_count": 39
        }
      ]
    },
    {
      "cell_type": "code",
      "metadata": {
        "id": "06-r5io37nez",
        "colab": {
          "base_uri": "https://localhost:8080/"
        },
        "outputId": "0cfff94f-150c-4ed3-db6b-f769ccbbaf05"
      },
      "source": [
        "acc = model.evaluate(features_set, labels, batch_size=32, verbose=2)\n",
        "\n",
        "print(\"acc: %.2f\" % (acc))"
      ],
      "id": "06-r5io37nez",
      "execution_count": null,
      "outputs": [
        {
          "output_type": "stream",
          "name": "stdout",
          "text": [
            "22/22 - 2s - loss: 0.0011\n",
            "acc: 0.00\n"
          ]
        }
      ]
    },
    {
      "cell_type": "code",
      "metadata": {
        "colab": {
          "base_uri": "https://localhost:8080/"
        },
        "id": "Prm3Ga5ze51H",
        "outputId": "2fedecca-6833-4af2-f126-66a0738e7435"
      },
      "source": [
        "acc = model.evaluate(features_set, labels, batch_size=32, verbose=2)\n",
        "\n",
        "print(\"acc: %.2f\" % (acc))"
      ],
      "id": "Prm3Ga5ze51H",
      "execution_count": null,
      "outputs": [
        {
          "output_type": "stream",
          "name": "stdout",
          "text": [
            "22/22 - 1s - loss: 0.0011\n",
            "acc: 0.00\n"
          ]
        }
      ]
    },
    {
      "cell_type": "code",
      "metadata": {
        "colab": {
          "base_uri": "https://localhost:8080/",
          "height": 301
        },
        "id": "egL9CcJEKFlb",
        "outputId": "09ed3efd-3365-4155-c6c5-123fb8326776"
      },
      "source": [
        "import datetime\n",
        "import matplotlib.pyplot as plt\n",
        "from matplotlib.dates import DayLocator, HourLocator, DateFormatter, drange\n",
        "import numpy as np\n",
        "\n",
        "dates=amazon_testing_complete['Date']\n",
        "y=amazon_testing_processed\n",
        "fig, ax = plt.subplots()\n",
        "ax.plot_date(dates, y , 'g')\n",
        "ax.set_xlim(dates[1], dates[10])\n",
        "\n",
        "ax.xaxis.set_major_locator(DayLocator())\n",
        "ax.xaxis.set_minor_locator(HourLocator(range(1, 26, 6)))\n",
        "#ax.xaxis.set_major_formatter(DateFormatter('% Y-% m-% d'))\n",
        "\n",
        "ax.fmt_xdata = DateFormatter('% Y-% m-% d H:% M:% S')\n",
        "fig.autofmt_xdate()\n",
        "plt.plot(predictions , color='red', label='Predicted Amazon Stock Price')\n",
        "plt.plot(amazon_testing_processed, color='blue', label='Actual Amazon Stock Price')\n",
        "plt.title('AMZN Stock Price Prediction')\n",
        "plt.xlabel('Date')\n",
        "plt.ylabel('AMZN Stock Price')\n",
        "plt.legend()\n",
        "plt.show()"
      ],
      "id": "egL9CcJEKFlb",
      "execution_count": null,
      "outputs": [
        {
          "output_type": "display_data",
          "data": {
            "image/png": "[encoded data removed]",
            "text/plain": [
              "<Figure size 432x288 with 1 Axes>"
            ]
          },
          "metadata": {
            "needs_background": "light"
          }
        }
      ]
    },
    {
      "cell_type": "code",
      "metadata": {
        "colab": {
          "base_uri": "https://localhost:8080/",
          "height": 285
        },
        "id": "pvSdH5uMhjhp",
        "outputId": "ef708157-502f-494c-dc7c-3d6db7d5c3e4"
      },
      "source": [
        "import datetime\n",
        "import matplotlib.pyplot as plt\n",
        "from matplotlib.dates import DayLocator, HourLocator, DateFormatter, drange\n",
        "import numpy as np\n",
        "\n",
        "dates=amazon_testing_complete['Date']\n",
        "y=amazon_testing_processed\n",
        "fig, ax = plt.subplots()\n",
        "ax.plot_date(dates, y , 'g')\n",
        "ax.set_xlim(dates[1], dates[10])\n",
        "\n",
        "ax.xaxis.set_major_locator(DayLocator())\n",
        "ax.xaxis.set_minor_locator(HourLocator(range(1, 26, 6)))\n",
        "#ax.xaxis.set_major_formatter(DateFormatter('% Y-% m-% d'))\n",
        "\n",
        "ax.fmt_xdata = DateFormatter('% Y-% m-% d H:% M:% S')\n",
        "fig.autofmt_xdate()\n",
        "plt.plot(amazon_testing_processed, color='blue', label='Actual Amazon Stock Price')\n",
        "plt.xlabel('Date')\n",
        "plt.ylabel('AMZN Stock Price')\n",
        "plt.legend()\n",
        "plt.show()"
      ],
      "id": "pvSdH5uMhjhp",
      "execution_count": null,
      "outputs": [
        {
          "output_type": "display_data",
          "data": {
            "image/png": "[encoded data removed]",
            "text/plain": [
              "<Figure size 432x288 with 1 Axes>"
            ]
          },
          "metadata": {
            "needs_background": "light"
          }
        }
      ]
    },
    {
      "cell_type": "code",
      "metadata": {
        "id": "IWFdQbW9_YAb",
        "colab": {
          "base_uri": "https://localhost:8080/",
          "height": 404
        },
        "outputId": "3f6da2b3-9b24-46df-85cf-4e05b3b0d3a4"
      },
      "source": [
        "plt.figure(figsize=(10,6))\n",
        "plt.plot(apple_testing_processed, color='blue', label='Actual AMZN Stock Price')\n",
        "plt.plot(predictions , color='red', label='Predicted AMZN Stock Price')\n",
        "plt.title('AMZN Stock Price Prediction')\n",
        "plt.xlabel('Date')\n",
        "plt.ylabel('AMZN Stock Price')\n",
        "plt.legend()\n",
        "plt.show()"
      ],
      "id": "IWFdQbW9_YAb",
      "execution_count": null,
      "outputs": [
        {
          "output_type": "display_data",
          "data": {
            "image/png": "[encoded data removed]",
            "text/plain": [
              "<Figure size 720x432 with 1 Axes>"
            ]
          },
          "metadata": {
            "needs_background": "light"
          }
        }
      ]
    },
    {
      "cell_type": "code",
      "metadata": {
        "id": "US4BmuXM_YAb"
      },
      "source": [
        ""
      ],
      "id": "US4BmuXM_YAb",
      "execution_count": null,
      "outputs": []
    }
  ]
}